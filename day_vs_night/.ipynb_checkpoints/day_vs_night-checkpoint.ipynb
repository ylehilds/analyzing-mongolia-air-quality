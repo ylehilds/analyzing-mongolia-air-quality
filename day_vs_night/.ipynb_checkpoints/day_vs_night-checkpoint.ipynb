{
 "cells": [
  {
   "cell_type": "code",
   "execution_count": 1,
   "metadata": {},
   "outputs": [],
   "source": []
  },
  {
   "cell_type": "code",
   "execution_count": 2,
   "metadata": {},
   "outputs": [
    {
     "name": "stderr",
     "output_type": "stream",
     "text": [
      "INFO:__main__:Loading cached data...\n",
      "INFO:numexpr.utils:NumExpr defaulting to 8 threads.\n",
      "INFO:__main__:Loading cached data...\n",
      "INFO:__main__:Done loading data...\n"
     ]
    }
   ],
   "source": [
    "import sys\n",
    "# Add the path to system, local or mounted S3 bucket, e.g. /dbfs/mnt/<path_to_bucket>\n",
    "sys.path.append('./secrets.py')\n",
    "\n",
    "import logging\n",
    "import math\n",
    "import os\n",
    "\n",
    "from influxdb import DataFrameClient\n",
    "import numpy as np\n",
    "import matplotlib.mlab as mlab\n",
    "import pandas as pd\n",
    "import matplotlib.pyplot as plt\n",
    "from tabulate import tabulate\n",
    "from tqdm import tqdm\n",
    "%matplotlib inline\n",
    "\n",
    "logging.basicConfig(level=logging.INFO)\n",
    "LOGGER = logging.getLogger(__name__)\n",
    "\n",
    "# Need to ssh tunnel for this to work\n",
    "# ssh -L 8086:localhost:8086 aq.byu.edu -N\n",
    "influx = DataFrameClient(\n",
    "    host=HOST,\n",
    "    port=PORT,\n",
    "    username=USERNAME,\n",
    "    password=PASSWORD,\n",
    "    database=DATABASE,\n",
    ")\n",
    "\n",
    "\n",
    "def large_query(influx, measurement, query, total=None, limit=100_000):\n",
    "    if total is not None:\n",
    "        total = math.ceil(total / limit)\n",
    "\n",
    "    with tqdm(total=total) as pbar:\n",
    "        offset = 0\n",
    "        while True:\n",
    "            new_query = query + \" LIMIT {} OFFSET {}\".format(limit, offset)\n",
    "            data = influx.query(new_query)\n",
    "            data = data[measurement]\n",
    "\n",
    "            received = len(data)\n",
    "            pbar.update(1)\n",
    "\n",
    "            yield data\n",
    "\n",
    "            offset += limit\n",
    "            if received != limit:\n",
    "                break\n",
    "\n",
    "\n",
    "def load_data(filename):\n",
    "    if os.path.exists(filename):\n",
    "        LOGGER.info(\"Loading cached data...\")\n",
    "        return pd.read_hdf(filename)\n",
    "\n",
    "    LOGGER.info(\"Downloading data...\")\n",
    "    result = influx.query(\n",
    "        \"SELECT COUNT(sequence) FROM air_quality_sensor WHERE time > '2019-10-01' AND time <= now()\"\n",
    "    )\n",
    "    count = result[\"air_quality_sensor\"].values[0][0]\n",
    "\n",
    "    queries = large_query(\n",
    "        influx,\n",
    "        \"air_quality_sensor\",\n",
    "        \"SELECT * FROM air_quality_sensor WHERE time > '2019-10-01' AND time <= now()\",\n",
    "        count,\n",
    "    )\n",
    "\n",
    "    all_data = pd.concat(list(queries), sort=False)\n",
    "    all_data.to_hdf(filename, \"data\")\n",
    "    return all_data\n",
    "\n",
    "\n",
    "data = load_data(\"aq_data.h5\")\n",
    "gold_data = load_data(\"aq_data.h5\")\n",
    "\n",
    "LOGGER.info(\"Done loading data...\")\n",
    "\n"
   ]
  },
  {
   "cell_type": "code",
   "execution_count": 41,
   "metadata": {
    "scrolled": true
   },
   "outputs": [
    {
     "name": "stdout",
     "output_type": "stream",
     "text": [
      "2019-11-04 08:00:02+08:00\n",
      "2019-11-04 08:00:02+08:00\n",
      "All Sensors names: ['AK', 'AL', 'AR', 'AZ', 'CA', 'CO', 'CT', 'DE', 'FL', 'IA', 'KS', 'KY', 'LA', 'MD', 'ME', 'MI', 'MN', 'MS', 'MT', 'NC', 'NH']\n",
      "<class 'pandas.core.indexes.base.Index'>\n",
      "Index(['Monday', 'Monday', 'Monday', 'Monday', 'Monday', 'Monday', 'Monday',\n",
      "       'Monday', 'Monday', 'Monday'],\n",
      "      dtype='object')\n",
      "whiskers:  [1.0, 338.0, 1.0, 404.0, 0.0, 382.0, 2.0, 436.0, 1.0, 416.0, 1.0, 385.0, 0.0, 393.0]\n",
      "caps:  [1.0, 338.0, 1.0, 404.0, 0.0, 382.0, 2.0, 436.0, 1.0, 416.0, 1.0, 385.0, 0.0, 393.0]\n",
      "boxes:  [31.0, 29.0, 42.0, 44.0, 36.0, 30.0, 36.0]\n",
      "medians:  [67.0, 78.0, 86.0, 90.0, 81.0, 70.0, 81.0]\n",
      "means:  [155.92442182001005, 158.88481403767668, 169.4802347370429, 182.92806347534076, 208.83867942434156, 179.28833430742256, 157.75941854877462]\n",
      "fliers:  []\n"
     ]
    },
    {
     "data": {
      "image/png": "[encoded data removed]",
      "text/plain": [
       "<Figure size 432x288 with 1 Axes>"
      ]
     },
     "metadata": {
      "needs_background": "light"
     },
     "output_type": "display_data"
    }
   ],
   "source": [
    "# This is the working boxplot for hybrid only Mongolia deployed sensors\n",
    "# https://stackoverflow.com/questions/22800079/converting-time-zone-pandas-dataframe\n",
    "# https://pandas.pydata.org/pandas-docs/version/0.23.4/generated/pandas.DataFrame.between_time.html\n",
    "\n",
    "from IPython.core.debugger import set_trace \n",
    "# https://matplotlib.org/3.1.3/gallery/statistics/boxplot_color.html \n",
    "data = gold_data\n",
    "print(data.index[1])\n",
    "# data = data.tz_convert(None)\n",
    "# data.index = data.index.tz_localize('GMT')\n",
    "data.index = data.index.tz_convert('Asia/Ulaanbaatar')\n",
    "print(data.index[1])\n",
    "\n",
    "labels = ['Mon', 'Tue', 'Wed', 'Thu', 'Fri', 'Sat', 'Sun']\n",
    "plt.xlabel('Dates')\n",
    "plt.ylabel('PM 2.5 Value')\n",
    "plt.title('Week PM 2.5 for sensors')\n",
    "plt.grid(True)\n",
    "days = ['05', '06', '07', '08', '09', '10', '11']\n",
    "data = data[data.pm2_5 >= 0]\n",
    "data = data[data.location_name == 'Mongolia']\n",
    "hybrid_modified_gers = ['AK', 'AL', 'AR', 'AZ', 'CA', 'CO', 'CT', 'DE', 'FL', 'IA', 'KS', 'KY', 'LA', 'MD', 'ME', 'MI', 'MN', 'MS', 'MT', 'NC', 'NH']\n",
    "data = data[(data.name == hybrid_modified_gers[0]) | (data.name == hybrid_modified_gers[1]) | (data.name == hybrid_modified_gers[2]) | (data.name == hybrid_modified_gers[3]) | (data.name == hybrid_modified_gers[4]) | (data.name == hybrid_modified_gers[5]) | (data.name == hybrid_modified_gers[6]) | (data.name == hybrid_modified_gers[7]) | (data.name == hybrid_modified_gers[8]) | (data.name == hybrid_modified_gers[9]) | (data.name == hybrid_modified_gers[10]) | (data.name == hybrid_modified_gers[11]) | (data.name == hybrid_modified_gers[12]) | (data.name == hybrid_modified_gers[13]) | (data.name == hybrid_modified_gers[14]) | (data.name == hybrid_modified_gers[15]) | (data.name == hybrid_modified_gers[16]) | (data.name == hybrid_modified_gers[17]) | (data.name == hybrid_modified_gers[18]) | (data.name == hybrid_modified_gers[19]) | (data.name == hybrid_modified_gers[20])]\n",
    "\n",
    "all_sensors_names = []\n",
    "for name, sensor_data in data.groupby(\"name\"):\n",
    "    all_sensors_names.append(name)\n",
    "print(\"All Sensors names:\", all_sensors_names)\n",
    "\n",
    "day_names = data.index.day_name()\n",
    "print(type(day_names))\n",
    "print(day_names[:10])\n",
    "\n",
    "monday = data[(data.index.day_name() == 'Monday')].between_time('15:00:00', '01:00:00')['pm2_5']\n",
    "tuesday = data[data.index.day_name() == 'Tuesday'].between_time('15:00:00', '01:00:00')['pm2_5']\n",
    "wednesday = data[data.index.day_name() == 'Wednesday'].between_time('15:00:00', '01:00:00')['pm2_5']\n",
    "thursday = data[data.index.day_name() == 'Thursday'].between_time('15:00:00', '01:00:00')['pm2_5']\n",
    "friday = data[data.index.day_name() == 'Friday'].between_time('15:00:00', '01:00:00')['pm2_5']\n",
    "saturday = data[data.index.day_name() == 'Saturday'].between_time('15:00:00', '01:00:00')['pm2_5']\n",
    "sunday = data[data.index.day_name() == 'Sunday'].between_time('15:00:00', '01:00:00')['pm2_5']\n",
    "all_days = [monday, tuesday, wednesday, thursday, friday, saturday, sunday]\n",
    "\n",
    "results = plt.boxplot(all_days, showfliers=False, labels=labels, showmeans=True, meanline=True)\n",
    "plt.savefig(\"./weely_hybrid_day_boxplot_pm_2_5/weely_hybrid_day_boxplot_pm_2_5.png\", format='png')\n",
    "\n",
    "# print(results)\n",
    "print('whiskers: ', [item.get_ydata()[1] for item in results['whiskers']])\n",
    "print('caps: ', [item.get_ydata()[1] for item in results['caps']])\n",
    "print('boxes: ', [item.get_ydata()[1] for item in results['boxes']])\n",
    "print('medians: ', [item.get_ydata()[1] for item in results['medians']])\n",
    "print('means: ', [item.get_ydata()[1] for item in results['means']])\n",
    "print('fliers: ', [item.get_ydata()[1] for item in results['fliers']])\n",
    "\n",
    "data = gold_data"
   ]
  },
  {
   "cell_type": "code",
   "execution_count": 40,
   "metadata": {
    "scrolled": true
   },
   "outputs": [
    {
     "name": "stdout",
     "output_type": "stream",
     "text": [
      "2019-11-04 08:00:02+08:00\n",
      "2019-11-04 08:00:02+08:00\n",
      "All Sensors names: ['AK', 'AL', 'AR', 'AZ', 'CA', 'CO', 'CT', 'DE', 'FL', 'IA', 'KS', 'KY', 'LA', 'MD', 'ME', 'MI', 'MN', 'MS', 'MT', 'NC', 'NH']\n",
      "<class 'pandas.core.indexes.base.Index'>\n",
      "Index(['Monday', 'Monday', 'Monday', 'Monday', 'Monday', 'Monday', 'Monday',\n",
      "       'Monday', 'Monday', 'Monday'],\n",
      "      dtype='object')\n",
      "whiskers:  [3.0, 367.0, 2.0, 440.0, 0.0, 404.0, 3.0, 483.0, 2.0, 442.0, 1.0, 406.0, 0.0, 428.0]\n",
      "caps:  [3.0, 367.0, 2.0, 440.0, 0.0, 404.0, 3.0, 483.0, 2.0, 442.0, 1.0, 406.0, 0.0, 428.0]\n",
      "boxes:  [40.0, 40.0, 54.0, 56.0, 42.0, 39.0, 48.0]\n",
      "medians:  [79.0, 94.0, 98.0, 107.0, 94.0, 84.0, 95.0]\n",
      "means:  [174.0090595340811, 178.79682146476426, 187.90524407073397, 203.71493558086277, 240.1916366211692, 165.2628006988308, 174.57892731586512]\n",
      "fliers:  []\n"
     ]
    },
    {
     "data": {
      "image/png": "[encoded data removed]",
      "text/plain": [
       "<Figure size 432x288 with 1 Axes>"
      ]
     },
     "metadata": {
      "needs_background": "light"
     },
     "output_type": "display_data"
    }
   ],
   "source": [
    "# This is the working boxplot for hybrid only Mongolia deployed sensors\n",
    "# https://stackoverflow.com/questions/22800079/converting-time-zone-pandas-dataframe\n",
    "# https://pandas.pydata.org/pandas-docs/version/0.23.4/generated/pandas.DataFrame.between_time.html\n",
    "\n",
    "from IPython.core.debugger import set_trace \n",
    "# https://matplotlib.org/3.1.3/gallery/statistics/boxplot_color.html \n",
    "data = gold_data\n",
    "print(data.index[1])\n",
    "# data = data.tz_convert(None)\n",
    "# data.index = data.index.tz_localize('GMT')\n",
    "data.index = data.index.tz_convert('Asia/Ulaanbaatar')\n",
    "print(data.index[1])\n",
    "\n",
    "# data.tz_localize('UTC', level=8)\n",
    "\n",
    "labels = ['Mon', 'Tue', 'Wed', 'Thu', 'Fri', 'Sat', 'Sun']\n",
    "plt.xlabel('Dates')\n",
    "plt.ylabel('PM 2.5 Value')\n",
    "plt.title('Week PM 2.5 for sensors')\n",
    "plt.grid(True)\n",
    "days = ['05', '06', '07', '08', '09', '10', '11']\n",
    "data = data[data.pm2_5 >= 0]\n",
    "data = data[data.location_name == 'Mongolia']\n",
    "hybrid_modified_gers = ['AK', 'AL', 'AR', 'AZ', 'CA', 'CO', 'CT', 'DE', 'FL', 'IA', 'KS', 'KY', 'LA', 'MD', 'ME', 'MI', 'MN', 'MS', 'MT', 'NC', 'NH']\n",
    "data = data[(data.name == hybrid_modified_gers[0]) | (data.name == hybrid_modified_gers[1]) | (data.name == hybrid_modified_gers[2]) | (data.name == hybrid_modified_gers[3]) | (data.name == hybrid_modified_gers[4]) | (data.name == hybrid_modified_gers[5]) | (data.name == hybrid_modified_gers[6]) | (data.name == hybrid_modified_gers[7]) | (data.name == hybrid_modified_gers[8]) | (data.name == hybrid_modified_gers[9]) | (data.name == hybrid_modified_gers[10]) | (data.name == hybrid_modified_gers[11]) | (data.name == hybrid_modified_gers[12]) | (data.name == hybrid_modified_gers[13]) | (data.name == hybrid_modified_gers[14]) | (data.name == hybrid_modified_gers[15]) | (data.name == hybrid_modified_gers[16]) | (data.name == hybrid_modified_gers[17]) | (data.name == hybrid_modified_gers[18]) | (data.name == hybrid_modified_gers[19]) | (data.name == hybrid_modified_gers[20])]\n",
    "\n",
    "all_sensors_names = []\n",
    "for name, sensor_data in data.groupby(\"name\"):\n",
    "    all_sensors_names.append(name)\n",
    "print(\"All Sensors names:\", all_sensors_names)\n",
    "\n",
    "day_names = data.index.day_name()\n",
    "print(type(day_names))\n",
    "print(day_names[:10])\n",
    "\n",
    "monday = data[(data.index.day_name() == 'Monday')].between_time('01:01', '07:59')['pm2_5']\n",
    "tuesday = data[data.index.day_name() == 'Tuesday'].between_time('01:01', '07:59')['pm2_5']\n",
    "wednesday = data[data.index.day_name() == 'Wednesday'].between_time('01:01', '07:59')['pm2_5']\n",
    "thursday = data[data.index.day_name() == 'Thursday'].between_time('01:01', '07:59')['pm2_5']\n",
    "friday = data[data.index.day_name() == 'Friday'].between_time('01:01', '07:59')['pm2_5']\n",
    "saturday = data[data.index.day_name() == 'Saturday'].between_time('01:01', '07:59')['pm2_5']\n",
    "sunday = data[data.index.day_name() == 'Sunday'].between_time('01:01', '07:59')['pm2_5']\n",
    "all_days = [monday, tuesday, wednesday, thursday, friday, saturday, sunday]\n",
    "\n",
    "results = plt.boxplot(all_days, showfliers=False, labels=labels, showmeans=True, meanline=True)\n",
    "plt.savefig(\"./weely_hybrid_night_boxplot_pm_2_5/weely_hybrid_night_boxplot_pm_2_5.png\", format='png')\n",
    "\n",
    "# print(results)\n",
    "print('whiskers: ', [item.get_ydata()[1] for item in results['whiskers']])\n",
    "print('caps: ', [item.get_ydata()[1] for item in results['caps']])\n",
    "print('boxes: ', [item.get_ydata()[1] for item in results['boxes']])\n",
    "print('medians: ', [item.get_ydata()[1] for item in results['medians']])\n",
    "print('means: ', [item.get_ydata()[1] for item in results['means']])\n",
    "print('fliers: ', [item.get_ydata()[1] for item in results['fliers']])\n",
    "\n",
    "data = gold_data"
   ]
  },
  {
   "cell_type": "code",
   "execution_count": null,
   "metadata": {},
   "outputs": [],
   "source": []
  }
 ],
 "metadata": {
  "kernelspec": {
   "display_name": "Python 3",
   "language": "python",
   "name": "python3"
  },
  "language_info": {
   "codemirror_mode": {
    "name": "ipython",
    "version": 3
   },
   "file_extension": ".py",
   "mimetype": "text/x-python",
   "name": "python",
   "nbconvert_exporter": "python",
   "pygments_lexer": "ipython3",
   "version": "3.7.4"
  }
 },
 "nbformat": 4,
 "nbformat_minor": 2
}
